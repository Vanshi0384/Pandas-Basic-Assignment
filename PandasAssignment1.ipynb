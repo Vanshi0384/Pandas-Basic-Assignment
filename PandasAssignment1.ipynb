{
 "cells": [
  {
   "cell_type": "code",
   "execution_count": 8,
   "id": "ba1550bc-d524-44e1-9828-205ec698b683",
   "metadata": {},
   "outputs": [],
   "source": [
    "import pandas as pd\n"
   ]
  },
  {
   "cell_type": "code",
   "execution_count": 8,
   "id": "d9ac3f31-f479-4ec0-9601-86aa41561dff",
   "metadata": {},
   "outputs": [],
   "source": [
    "#question1\n",
    "a1 = pd.Series((4,8,15,16,23,42))"
   ]
  },
  {
   "cell_type": "code",
   "execution_count": 10,
   "id": "1b1db8e5-80a7-4b88-b98d-72fe32417bb5",
   "metadata": {},
   "outputs": [
    {
     "data": {
      "text/plain": [
       "pandas.core.series.Series"
      ]
     },
     "execution_count": 10,
     "metadata": {},
     "output_type": "execute_result"
    }
   ],
   "source": [
    "type(a1)"
   ]
  },
  {
   "cell_type": "code",
   "execution_count": 11,
   "id": "05028c2a-54c2-47f8-83ad-535694c44fdf",
   "metadata": {},
   "outputs": [
    {
     "data": {
      "text/plain": [
       "0     4\n",
       "1     8\n",
       "2    15\n",
       "3    16\n",
       "4    23\n",
       "5    42\n",
       "dtype: int64"
      ]
     },
     "execution_count": 11,
     "metadata": {},
     "output_type": "execute_result"
    }
   ],
   "source": [
    "a1"
   ]
  },
  {
   "cell_type": "code",
   "execution_count": 18,
   "id": "f5fc9989-3776-4ead-bc98-5c6d53195f39",
   "metadata": {},
   "outputs": [
    {
     "data": {
      "text/plain": [
       "0     4\n",
       "1     5\n",
       "2     6\n",
       "3     7\n",
       "4     8\n",
       "5     9\n",
       "6     0\n",
       "7     3\n",
       "8    56\n",
       "9    78\n",
       "dtype: int64"
      ]
     },
     "execution_count": 18,
     "metadata": {},
     "output_type": "execute_result"
    }
   ],
   "source": [
    "#Question2\n",
    "a2 = pd.Series([4,5,6,7,8,9,0,3,56,78])\n",
    "a2"
   ]
  },
  {
   "cell_type": "code",
   "execution_count": 19,
   "id": "8759a95b-b335-42f3-b18f-e4b9b085a04d",
   "metadata": {},
   "outputs": [
    {
     "data": {
      "text/html": [
       "<div>\n",
       "<style scoped>\n",
       "    .dataframe tbody tr th:only-of-type {\n",
       "        vertical-align: middle;\n",
       "    }\n",
       "\n",
       "    .dataframe tbody tr th {\n",
       "        vertical-align: top;\n",
       "    }\n",
       "\n",
       "    .dataframe thead th {\n",
       "        text-align: right;\n",
       "    }\n",
       "</style>\n",
       "<table border=\"1\" class=\"dataframe\">\n",
       "  <thead>\n",
       "    <tr style=\"text-align: right;\">\n",
       "      <th></th>\n",
       "      <th>Name</th>\n",
       "      <th>Age</th>\n",
       "      <th>Gender</th>\n",
       "    </tr>\n",
       "  </thead>\n",
       "  <tbody>\n",
       "    <tr>\n",
       "      <th>0</th>\n",
       "      <td>Alice</td>\n",
       "      <td>25</td>\n",
       "      <td>Female</td>\n",
       "    </tr>\n",
       "    <tr>\n",
       "      <th>1</th>\n",
       "      <td>Bob</td>\n",
       "      <td>30</td>\n",
       "      <td>Male</td>\n",
       "    </tr>\n",
       "    <tr>\n",
       "      <th>2</th>\n",
       "      <td>Claire</td>\n",
       "      <td>27</td>\n",
       "      <td>Female</td>\n",
       "    </tr>\n",
       "  </tbody>\n",
       "</table>\n",
       "</div>"
      ],
      "text/plain": [
       "     Name  Age  Gender\n",
       "0   Alice   25  Female\n",
       "1     Bob   30    Male\n",
       "2  Claire   27  Female"
      ]
     },
     "execution_count": 19,
     "metadata": {},
     "output_type": "execute_result"
    }
   ],
   "source": [
    "#Question3\n",
    "t1 = pd.DataFrame({'Name':['Alice','Bob','Claire'],\n",
    "                   'Age':[25,30,27],\n",
    "                   'Gender':['Female','Male','Female']})\n",
    "t1"
   ]
  },
  {
   "cell_type": "code",
   "execution_count": null,
   "id": "7dbdff37-4923-485c-bf5d-c05787e8bcda",
   "metadata": {},
   "outputs": [],
   "source": [
    "#question4:\n",
    "#A Dataframe is a two-dimensional labeled data structure with rows and columns.It can hold data ofvarious types such as integers,strings,floats etc. in different columns.\n",
    "#Difference:\n",
    "\n",
    "#1. DataFrame is two-dimensional(has rows and columns) while series is one dimensional.\n",
    "#2. Dataframe can hold data of multiple types ehile a series can hold single data type at a time.\n",
    "#3. Dataframe represents tabular data with multiple cariables while series represents a single variable or a single column.\n",
    "\n",
    "#In short dataframe can hold collection of series to create rich tabular data structures."
   ]
  },
  {
   "cell_type": "code",
   "execution_count": 22,
   "id": "8dd6e901-87b2-4512-ab90-f505eda68570",
   "metadata": {},
   "outputs": [
    {
     "data": {
      "text/html": [
       "<div>\n",
       "<style scoped>\n",
       "    .dataframe tbody tr th:only-of-type {\n",
       "        vertical-align: middle;\n",
       "    }\n",
       "\n",
       "    .dataframe tbody tr th {\n",
       "        vertical-align: top;\n",
       "    }\n",
       "\n",
       "    .dataframe thead th {\n",
       "        text-align: right;\n",
       "    }\n",
       "</style>\n",
       "<table border=\"1\" class=\"dataframe\">\n",
       "  <thead>\n",
       "    <tr style=\"text-align: right;\">\n",
       "      <th></th>\n",
       "      <th>First</th>\n",
       "      <th>Second</th>\n",
       "      <th>Third</th>\n",
       "    </tr>\n",
       "  </thead>\n",
       "  <tbody>\n",
       "    <tr>\n",
       "      <th>0</th>\n",
       "      <td>q</td>\n",
       "      <td>a</td>\n",
       "      <td>z</td>\n",
       "    </tr>\n",
       "    <tr>\n",
       "      <th>1</th>\n",
       "      <td>w</td>\n",
       "      <td>s</td>\n",
       "      <td>x</td>\n",
       "    </tr>\n",
       "    <tr>\n",
       "      <th>2</th>\n",
       "      <td>e</td>\n",
       "      <td>d</td>\n",
       "      <td>c</td>\n",
       "    </tr>\n",
       "    <tr>\n",
       "      <th>3</th>\n",
       "      <td>r</td>\n",
       "      <td>f</td>\n",
       "      <td>v</td>\n",
       "    </tr>\n",
       "  </tbody>\n",
       "</table>\n",
       "</div>"
      ],
      "text/plain": [
       "  First Second Third\n",
       "0     q      a     z\n",
       "1     w      s     x\n",
       "2     e      d     c\n",
       "3     r      f     v"
      ]
     },
     "execution_count": 22,
     "metadata": {},
     "output_type": "execute_result"
    }
   ],
   "source": [
    "#eg DataFrame:\n",
    "d1 = pd.DataFrame({'First':['q','w','e','r'],\n",
    "                   'Second':['a','s','d','f'],\n",
    "                   'Third':['z','x','c','v']})\n",
    "d1"
   ]
  },
  {
   "cell_type": "code",
   "execution_count": 23,
   "id": "45d66de9-f774-4bfe-877a-a38f6a813237",
   "metadata": {},
   "outputs": [
    {
     "data": {
      "text/plain": [
       "First     [q, w, e, r]\n",
       "Second    [a, s, d, f]\n",
       "Third     [z, x, c, v]\n",
       "dtype: object"
      ]
     },
     "execution_count": 23,
     "metadata": {},
     "output_type": "execute_result"
    }
   ],
   "source": [
    "#eg Series:\n",
    "d2 = pd.Series({'First':['q','w','e','r'],\n",
    "                   'Second':['a','s','d','f'],\n",
    "                   'Third':['z','x','c','v']})\n",
    "d2"
   ]
  },
  {
   "cell_type": "code",
   "execution_count": 32,
   "id": "d15baf50-f887-4365-bd9e-2595c2a82082",
   "metadata": {},
   "outputs": [
    {
     "name": "stdout",
     "output_type": "stream",
     "text": [
      "   col1 col2  col4\n",
      "0     1    A     1\n",
      "1     2    B     4\n",
      "2     3    C     9\n",
      "3     4    D    16\n"
     ]
    }
   ],
   "source": [
    "#question 5:\n",
    "# Some functions that can be used to manipulate data in a pandas dataFrame are as follows:\n",
    "#seelction (loc and iloc) : These are fundamental for selecting data i.e, loc-> for selecting data on basis of labels and iloc-> to select data on the basis of integer locations.\n",
    "#Filtering(.query): To filter data nased on a specific condition;(.drop): to remove rows or columns from the dataframe, rows based on labels or conditions and columns by name or position.\n",
    "#Aggregation(.sum,.mean,.min,.max): to calculate sum, mean , minimum and maximum values respectively.\n",
    "#Transformation(.apply): Used to apply a custom function to each row or column of the dataframe.\n",
    "\n",
    "\n",
    "# eg of .apply function:\n",
    "#Add a new 'Age_Group' column based on age categories (custom function)\n",
    "data = {'col1': [1, 2, 3, 4], 'col2': ['A', 'B', 'C', 'D']}\n",
    "df = pd.DataFrame(data)\n",
    "\n",
    "# Add a new column 'col4' by squaring the values in 'col1' using apply\n",
    "def square(x):\n",
    "  \"\"\"\n",
    "  Squares the input value.\n",
    "  \"\"\"\n",
    "  return x * x\n",
    "\n",
    "df['col4'] = df['col1'].apply(square)\n",
    "\n",
    "print(df)\n",
    "\n"
   ]
  },
  {
   "cell_type": "code",
   "execution_count": null,
   "id": "1aab64f6-2a80-4b5e-9370-a9765cf1780d",
   "metadata": {},
   "outputs": [],
   "source": [
    "#question 6 :\n",
    "# Out of Series, DataFrame and Panel, Dataframe and Panel are mutable in nature.\n"
   ]
  },
  {
   "cell_type": "code",
   "execution_count": 43,
   "id": "8d790b4a-da23-499c-8dd5-de2bf836719e",
   "metadata": {},
   "outputs": [
    {
     "data": {
      "text/html": [
       "<div>\n",
       "<style scoped>\n",
       "    .dataframe tbody tr th:only-of-type {\n",
       "        vertical-align: middle;\n",
       "    }\n",
       "\n",
       "    .dataframe tbody tr th {\n",
       "        vertical-align: top;\n",
       "    }\n",
       "\n",
       "    .dataframe thead th {\n",
       "        text-align: right;\n",
       "    }\n",
       "</style>\n",
       "<table border=\"1\" class=\"dataframe\">\n",
       "  <thead>\n",
       "    <tr style=\"text-align: right;\">\n",
       "      <th></th>\n",
       "      <th>Item</th>\n",
       "      <th>Colour</th>\n",
       "      <th>Price</th>\n",
       "    </tr>\n",
       "  </thead>\n",
       "  <tbody>\n",
       "    <tr>\n",
       "      <th>0</th>\n",
       "      <td>Ball</td>\n",
       "      <td>Red</td>\n",
       "      <td>300</td>\n",
       "    </tr>\n",
       "    <tr>\n",
       "      <th>1</th>\n",
       "      <td>Bat</td>\n",
       "      <td>Yellow</td>\n",
       "      <td>5000</td>\n",
       "    </tr>\n",
       "    <tr>\n",
       "      <th>2</th>\n",
       "      <td>Wicket</td>\n",
       "      <td>White</td>\n",
       "      <td>8000</td>\n",
       "    </tr>\n",
       "  </tbody>\n",
       "</table>\n",
       "</div>"
      ],
      "text/plain": [
       "     Item  Colour  Price\n",
       "0    Ball     Red    300\n",
       "1     Bat  Yellow   5000\n",
       "2  Wicket   White   8000"
      ]
     },
     "execution_count": 43,
     "metadata": {},
     "output_type": "execute_result"
    }
   ],
   "source": [
    "#question 7:\n",
    "p1 = pd.Series(['Ball','Bat','Wicket'])\n",
    "p2 = pd.Series(['Red','Yellow','White'])\n",
    "p3 = pd.Series([300,5000,8000])\n",
    "p4 = {'Item':p1,'Colour':p2,'Price':p3}\n",
    "P = pd.DataFrame(p4)\n",
    "P"
   ]
  },
  {
   "cell_type": "code",
   "execution_count": null,
   "id": "a0d7184f-a870-43ff-b03b-9ede2c12f0bb",
   "metadata": {},
   "outputs": [],
   "source": []
  }
 ],
 "metadata": {
  "kernelspec": {
   "display_name": "Python 3 (ipykernel)",
   "language": "python",
   "name": "python3"
  },
  "language_info": {
   "codemirror_mode": {
    "name": "ipython",
    "version": 3
   },
   "file_extension": ".py",
   "mimetype": "text/x-python",
   "name": "python",
   "nbconvert_exporter": "python",
   "pygments_lexer": "ipython3",
   "version": "3.10.8"
  }
 },
 "nbformat": 4,
 "nbformat_minor": 5
}
